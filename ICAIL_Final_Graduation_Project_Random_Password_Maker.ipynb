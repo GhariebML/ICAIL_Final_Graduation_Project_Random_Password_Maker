{
  "cells": [
    {
      "cell_type": "markdown",
      "source": [
        "#ICAIL Final Graduation Project_Random Password Maker(G8)"
      ],
      "metadata": {
        "id": "MWHauclZcj2h"
      },
      "id": "MWHauclZcj2h"
    },
    {
      "cell_type": "markdown",
      "source": [
        "##(1) Importing Libraries"
      ],
      "metadata": {
        "id": "_vjLdCShcwG2"
      },
      "id": "_vjLdCShcwG2"
    },
    {
      "cell_type": "code",
      "source": [
        "import random\n",
        "import string\n",
        "import pandas as pd\n",
        "import numpy as np\n",
        "import matplotlib.pyplot as plt\n",
        "import pandas as pd\n",
        "from sklearn.model_selection import train_test_split, cross_val_score\n",
        "from sklearn.linear_model import LogisticRegression\n",
        "from sklearn.ensemble import RandomForestClassifier\n",
        "from sklearn.metrics import accuracy_score, precision_recall_fscore_support,confusion_matrix\n",
        "from sklearn.preprocessing import LabelEncoder\n",
        "from sklearn.inspection import permutation_importance\n",
        "import seaborn as sns\n",
        "import ipywidgets as widgets\n",
        "from IPython.display import display, HTML"
      ],
      "metadata": {
        "id": "RF6r_vbGEpxx"
      },
      "id": "RF6r_vbGEpxx",
      "execution_count": null,
      "outputs": []
    },
    {
      "cell_type": "markdown",
      "source": [
        "##(2) Data Loading & Preparation :\n",
        "\n",
        "\n"
      ],
      "metadata": {
        "id": "Xuba5X_wdHeH"
      },
      "id": "Xuba5X_wdHeH"
    },
    {
      "cell_type": "code",
      "source": [
        "import kagglehub\n",
        "\n",
        "# Download latest version\n",
        "path = kagglehub.dataset_download(\"jeffersonvalandro/password-dataset\")\n",
        "\n",
        "print(\"Path to dataset files:\", path)"
      ],
      "metadata": {
        "id": "c3T5BTeKEpqA"
      },
      "id": "c3T5BTeKEpqA",
      "execution_count": null,
      "outputs": []
    },
    {
      "cell_type": "code",
      "source": [
        "data = pd.read_csv('/root/.cache/kagglehub/datasets/jeffersonvalandro/password-dataset/versions/1/passwords_dataset.csv')"
      ],
      "metadata": {
        "id": "17louyeIEpbw"
      },
      "id": "17louyeIEpbw",
      "execution_count": null,
      "outputs": []
    },
    {
      "cell_type": "code",
      "source": [
        "data.head()"
      ],
      "metadata": {
        "id": "v9Wlqvy3FKjS"
      },
      "id": "v9Wlqvy3FKjS",
      "execution_count": null,
      "outputs": []
    },
    {
      "cell_type": "code",
      "source": [
        "data.info()"
      ],
      "metadata": {
        "id": "EH60gcajQU1u"
      },
      "id": "EH60gcajQU1u",
      "execution_count": null,
      "outputs": []
    },
    {
      "cell_type": "code",
      "source": [
        "data.shape"
      ],
      "metadata": {
        "id": "6Rq3AbQWQaz_"
      },
      "id": "6Rq3AbQWQaz_",
      "execution_count": null,
      "outputs": []
    },
    {
      "cell_type": "code",
      "source": [
        "data.describe()"
      ],
      "metadata": {
        "id": "6aPM1TlIQdII"
      },
      "id": "6aPM1TlIQdII",
      "execution_count": null,
      "outputs": []
    },
    {
      "cell_type": "code",
      "source": [
        "# Check for missing values\n",
        "data.isnull().sum()"
      ],
      "metadata": {
        "id": "P7hzd0QbFTVZ"
      },
      "id": "P7hzd0QbFTVZ",
      "execution_count": null,
      "outputs": []
    },
    {
      "cell_type": "code",
      "source": [
        "data['Strength'].value_counts()"
      ],
      "metadata": {
        "id": "dpnmzvKHRBA3"
      },
      "id": "dpnmzvKHRBA3",
      "execution_count": null,
      "outputs": []
    },
    {
      "cell_type": "code",
      "source": [
        "# We encode to give categories (Weak, Medium, Strong) a numerical value (0, 1, 2) to use for modeling\n",
        "label_encoder = LabelEncoder()\n",
        "data['Strength'] = label_encoder.fit_transform(data['Strength'])"
      ],
      "metadata": {
        "id": "G5WnzawHFTSZ"
      },
      "id": "G5WnzawHFTSZ",
      "execution_count": null,
      "outputs": []
    },
    {
      "cell_type": "markdown",
      "source": [
        "##(3) Model Training & Evaluation:"
      ],
      "metadata": {
        "id": "36lr4obydVm3"
      },
      "id": "36lr4obydVm3"
    },
    {
      "cell_type": "code",
      "source": [
        "# I only care about these columns for the independent variables\n",
        "X = data[['Has Lowercase', 'Has Uppercase', 'Has Special Character', 'Length']]\n",
        "\n",
        "# Dependent variable\n",
        "y = data['Strength']"
      ],
      "metadata": {
        "id": "oZpaM3NaFTPo"
      },
      "id": "oZpaM3NaFTPo",
      "execution_count": null,
      "outputs": []
    },
    {
      "cell_type": "code",
      "source": [
        "# Split the data into training and testing sets (80/20 split)\n",
        "X_train, X_test, y_train, y_test = train_test_split(X, y, test_size=0.2, random_state=30)"
      ],
      "metadata": {
        "id": "sQDFNV4DFTGf"
      },
      "id": "sQDFNV4DFTGf",
      "execution_count": null,
      "outputs": []
    },
    {
      "cell_type": "markdown",
      "source": [
        "### Logistic Regression model:"
      ],
      "metadata": {
        "id": "NC08acRglxr2"
      },
      "id": "NC08acRglxr2"
    },
    {
      "cell_type": "code",
      "source": [
        "# Logistic Regression model\n",
        "log_reg_model = LogisticRegression(max_iter=1000)\n",
        "log_reg_model.fit(X_train, y_train)"
      ],
      "metadata": {
        "id": "q4Xlx8rkIckv"
      },
      "id": "q4Xlx8rkIckv",
      "execution_count": null,
      "outputs": []
    },
    {
      "cell_type": "code",
      "source": [
        "# Predictions for Logistic Regression\n",
        "y_pred_log_reg = log_reg_model.predict(X_test)\n",
        "accuracy_log_reg = accuracy_score(y_test, y_pred_log_reg)"
      ],
      "metadata": {
        "id": "pMo649VRIt6c"
      },
      "id": "pMo649VRIt6c",
      "execution_count": null,
      "outputs": []
    },
    {
      "cell_type": "code",
      "source": [
        "# Evaluate additional metrics for Logistic Regression\n",
        "precision_log_reg, recall_log_reg, f1_log_reg, _ = precision_recall_fscore_support(y_test, y_pred_log_reg, average='weighted')"
      ],
      "metadata": {
        "id": "vXnUCLWSI5wR"
      },
      "id": "vXnUCLWSI5wR",
      "execution_count": null,
      "outputs": []
    },
    {
      "cell_type": "code",
      "source": [
        "# Print the evaluation results\n",
        "print(f\"Logistic Regression Accuracy: {accuracy_log_reg:.4f}\")\n",
        "print(f\"Logistic Regression Precision: {precision_log_reg:.4f}\")\n",
        "print(f\"Logistic Regression Recall: {recall_log_reg:.4f}\")\n",
        "print(f\"Logistic Regression F1-score: {f1_log_reg:.4f}\")"
      ],
      "metadata": {
        "id": "5M3Z_R2kJDzi"
      },
      "id": "5M3Z_R2kJDzi",
      "execution_count": null,
      "outputs": []
    },
    {
      "cell_type": "code",
      "source": [
        "# Cross-validation for Logistic Regression (accuracy)\n",
        "log_reg_cv_scores = cross_val_score(log_reg_model, X, y, cv=5, scoring='accuracy')  # 5-fold cross-validation"
      ],
      "metadata": {
        "id": "URWq_q2JJX-D"
      },
      "id": "URWq_q2JJX-D",
      "execution_count": null,
      "outputs": []
    },
    {
      "cell_type": "code",
      "source": [
        "# Print the cross-validation results\n",
        "print(f\"Logistic Regression Cross-Validation Accuracy: {log_reg_cv_scores.mean():.4f} ± {log_reg_cv_scores.std():.4f}\")"
      ],
      "metadata": {
        "id": "KSdo9zWlJs75"
      },
      "id": "KSdo9zWlJs75",
      "execution_count": null,
      "outputs": []
    },
    {
      "cell_type": "markdown",
      "source": [
        "### Random Forest model:"
      ],
      "metadata": {
        "id": "MRjWSfyZl7Lg"
      },
      "id": "MRjWSfyZl7Lg"
    },
    {
      "cell_type": "code",
      "source": [
        "# Random Forest model\n",
        "rf_model = RandomForestClassifier(n_estimators=100, random_state=30)\n",
        "rf_model.fit(X_train, y_train)"
      ],
      "metadata": {
        "id": "gs-juz1wIcah"
      },
      "id": "gs-juz1wIcah",
      "execution_count": null,
      "outputs": []
    },
    {
      "cell_type": "code",
      "source": [
        "# Predictions for Random Forest\n",
        "y_pred_rf = rf_model.predict(X_test)\n",
        "accuracy_rf = accuracy_score(y_test, y_pred_rf)"
      ],
      "metadata": {
        "id": "c0YL5-vsIx8c"
      },
      "id": "c0YL5-vsIx8c",
      "execution_count": null,
      "outputs": []
    },
    {
      "cell_type": "code",
      "source": [
        "# Evaluate additional metrics for Random Forest\n",
        "precision_rf, recall_rf, f1_rf, _ = precision_recall_fscore_support(y_test, y_pred_rf, average='weighted')"
      ],
      "metadata": {
        "id": "Sjo118PxIygh"
      },
      "id": "Sjo118PxIygh",
      "execution_count": null,
      "outputs": []
    },
    {
      "cell_type": "code",
      "source": [
        "# Print the evaluation results\n",
        "print(f\"Random Forest Accuracy: {accuracy_rf:.4f}\")\n",
        "print(f\"Random Forest Precision: {precision_rf:.4f}\")\n",
        "print(f\"Random Forest Recall: {recall_rf:.4f}\")\n",
        "print(f\"Random Forest F1-score: {f1_rf:.4f}\")"
      ],
      "metadata": {
        "id": "mGcb6gijI_Tj"
      },
      "id": "mGcb6gijI_Tj",
      "execution_count": null,
      "outputs": []
    },
    {
      "cell_type": "code",
      "source": [
        "# Cross-validation for Random Forest (accuracy)\n",
        "rf_cv_scores = cross_val_score(rf_model, X, y, cv=5, scoring='accuracy')  # 5-fold cross-validation"
      ],
      "metadata": {
        "id": "gUKL39ddI_Hg"
      },
      "id": "gUKL39ddI_Hg",
      "execution_count": null,
      "outputs": []
    },
    {
      "cell_type": "code",
      "source": [
        "# Print the cross-validation results\n",
        "print(f\"Random Forest Cross-Validation Accuracy: {rf_cv_scores.mean():.4f} ± {rf_cv_scores.std():.4f}\")"
      ],
      "metadata": {
        "id": "CXsDt3EfJnKf"
      },
      "id": "CXsDt3EfJnKf",
      "execution_count": null,
      "outputs": []
    },
    {
      "cell_type": "code",
      "source": [],
      "metadata": {
        "id": "m3J2lozdJnG7"
      },
      "id": "m3J2lozdJnG7",
      "execution_count": null,
      "outputs": []
    },
    {
      "cell_type": "markdown",
      "source": [
        "## (4) Visualizations :"
      ],
      "metadata": {
        "id": "a1dCKG7fKqRF"
      },
      "id": "a1dCKG7fKqRF"
    },
    {
      "cell_type": "code",
      "source": [
        "# Convert 'Strength' back to the original labels for visualization\n",
        "data['Strength'] = label_encoder.inverse_transform(data['Strength'])"
      ],
      "metadata": {
        "id": "ZfvZZSy9JnDn"
      },
      "id": "ZfvZZSy9JnDn",
      "execution_count": null,
      "outputs": []
    },
    {
      "cell_type": "code",
      "source": [
        "# Define the order of the categories\n",
        "strength_order = ['Weak', 'Medium', 'Strong']"
      ],
      "metadata": {
        "id": "1cKwtc5mFSQQ"
      },
      "id": "1cKwtc5mFSQQ",
      "execution_count": null,
      "outputs": []
    },
    {
      "cell_type": "code",
      "source": [
        "# Create the boxplot with ordered categories\n",
        "plt.figure(figsize=(8, 6))\n",
        "sns.boxplot(x='Strength', y='Length', data=data, palette='Set2', order=strength_order)\n",
        "plt.title(\"Password Length Distribution by Strength\")\n",
        "plt.xlabel(\"Password Strength\")\n",
        "plt.ylabel(\"Password Length\")\n",
        "plt.grid(axis='y', linestyle='--', alpha=0.7)\n",
        "plt.show()"
      ],
      "metadata": {
        "id": "G6P-n-lfEoU7"
      },
      "id": "G6P-n-lfEoU7",
      "execution_count": null,
      "outputs": []
    },
    {
      "cell_type": "code",
      "source": [
        "# A feature graph of what most contributes to a strong password\n",
        "result = permutation_importance(rf_model, X, y, n_repeats=10, random_state=42)\n",
        "feature_names = X.columns\n",
        "feature_importances = result.importances_mean\n",
        "plt.figure(figsize=(10, 6))\n",
        "plt.bar(feature_names, feature_importances)\n",
        "plt.title('What contributes the most to Password Strength?')\n",
        "plt.xlabel('Features')\n",
        "plt.ylabel('Importance Score')\n",
        "plt.xticks(rotation=45)\n",
        "plt.tight_layout()\n",
        "plt.show()"
      ],
      "metadata": {
        "id": "p5r-ESeSLHfg"
      },
      "id": "p5r-ESeSLHfg",
      "execution_count": null,
      "outputs": []
    },
    {
      "cell_type": "markdown",
      "source": [
        "## (5) The Interactive Application :"
      ],
      "metadata": {
        "id": "U5Qch-hCdrTs"
      },
      "id": "U5Qch-hCdrTs"
    },
    {
      "cell_type": "markdown",
      "source": [
        "#Random Password Generator"
      ],
      "metadata": {
        "id": "UHiFaLJaVse_"
      },
      "id": "UHiFaLJaVse_"
    },
    {
      "cell_type": "code",
      "source": [
        "# 1. Password Strength Checker Class (The class remains almost the same)\n",
        "\n",
        "class PasswordStrengthChecker:\n",
        "    def __init__(self, models, label_encoder):\n",
        "        self.models = models\n",
        "        self.label_encoder = label_encoder\n",
        "        self.style_map = {\n",
        "            'Weak': {'color': 'red', 'emoji': '😞'},\n",
        "            'Medium': {'color': 'orange', 'emoji': '😐'},\n",
        "            'Strong': {'color': 'green', 'emoji': '💪'}\n",
        "        }\n",
        "        self.create_interface()\n",
        "\n",
        "    def check_password_strength(self, password):\n",
        "        features = {\n",
        "            'Has Lowercase': int(any(c.islower() for c in password)),\n",
        "            'Has Uppercase': int(any(c.isupper() for c in password)),\n",
        "            'Has Special Character': int(any(not c.isalnum() for c in password)),\n",
        "            'Length': len(password)\n",
        "        }\n",
        "        X = pd.DataFrame([features])\n",
        "        predictions = {}\n",
        "        for name, model in self.models.items():\n",
        "            pred_num = model.predict(X)[0]\n",
        "            pred_label = self.label_encoder.inverse_transform([pred_num])[0]\n",
        "            predictions[name] = pred_label\n",
        "        return predictions\n",
        "\n",
        "    def create_interface(self):\n",
        "        self.password_input = widgets.Password(description='Password:', placeholder='Enter password', layout=widgets.Layout(width='50%'))\n",
        "        self.output = widgets.Output()\n",
        "        self.password_input.observe(self.on_password_change, names='value')\n",
        "\n",
        "    def on_password_change(self, change):\n",
        "        with self.output:\n",
        "            self.output.clear_output()\n",
        "            password = change['new']\n",
        "            if not password:\n",
        "                return\n",
        "            predictions = self.check_password_strength(password)\n",
        "            display(HTML(\"<h4>Password Strength Predictions (توقعات قوة كلمة المرور):</h4>\"))\n",
        "            for model, strength in predictions.items():\n",
        "                style = self.style_map.get(strength, {})\n",
        "                color = style.get('color', 'black')\n",
        "                emoji = style.get('emoji', '')\n",
        "                display(HTML(f\"<b>{model.replace('_', ' ').title()}:</b> <span style='color:{color}'>{strength} {emoji}</span>\"))\n",
        "\n",
        "# ---------------------------------------------------------------------------\n",
        "# 2. Create an instance of the checker first\n",
        "# ---------------------------------------------------------------------------\n",
        "checker = PasswordStrengthChecker({'logistic_regression': log_reg_model, 'random_forest': rf_model}, label_encoder)\n",
        "\n",
        "# ---------------------------------------------------------------------------\n",
        "# 3. Widget-based Password Generator\n",
        "# ---------------------------------------------------------------------------\n",
        "\n",
        "# Input fields for the generator\n",
        "style = {'description_width': 'initial'}\n",
        "total_chars = widgets.IntText(value=12, description='Total Characters (العدد الإجمالي):', style=style)\n",
        "num_letters = widgets.IntText(value=8, description='Number of Letters (عدد الحروف):', style=style)\n",
        "num_numbers = widgets.IntText(value=2, description='Number of Numbers (عدد الأرقام):', style=style)\n",
        "num_symbols = widgets.IntText(value=2, description='Number of Symbols (عدد الرموز):', style=style)\n",
        "\n",
        "# Button to trigger generation\n",
        "generate_button = widgets.Button(description=\"Generate & Check Password (أنشئ وافحص كلمة المرور)\", button_style='success')\n",
        "generator_output = widgets.Output() # To show messages and errors\n",
        "\n",
        "# Function to handle button click\n",
        "def on_generate_button_clicked(b):\n",
        "    with generator_output:\n",
        "        generator_output.clear_output()\n",
        "        # Validation check\n",
        "        if total_chars.value != num_letters.value + num_numbers.value + num_symbols.value:\n",
        "            print(\"Error: The sum of parts must equal the total number of characters.\")\n",
        "            print(\"خطأ: مجموع الحروف والأرقام والرموز يجب أن يساوي العدد الإجمالي.\")\n",
        "            return\n",
        "\n",
        "        # Password generation logic\n",
        "        letters = random.choices(string.ascii_letters, k=num_letters.value)\n",
        "        numbers = random.choices(string.digits, k=num_numbers.value)\n",
        "        symbols = random.choices(string.punctuation, k=num_symbols.value)\n",
        "\n",
        "        password_list = letters + numbers + symbols\n",
        "        random.shuffle(password_list)\n",
        "        generated_password = ''.join(password_list)\n",
        "\n",
        "        # --- THIS IS THE KEY STEP FOR AUTOMATION ---\n",
        "\n",
        "        checker.password_input.value = generated_password\n",
        "\n",
        "        display(HTML(f\"<b>New Password Generated (كلمة مرور جديدة):</b> {generated_password}\"))\n",
        "\n",
        "\n",
        "generate_button.on_click(on_generate_button_clicked)\n",
        "\n",
        "# ---------------------------------------------------------------------------\n",
        "# 4. Display all widgets together in a structured layout\n",
        "# ---------------------------------------------------------------------------\n",
        "\n",
        "# Layout for the generator inputs\n",
        "generator_inputs = widgets.VBox([\n",
        "    widgets.HTML(\"<h3>Password Generator (مولد كلمات المرور)</h3>\"),\n",
        "    total_chars,\n",
        "    num_letters,\n",
        "    num_numbers,\n",
        "    num_symbols,\n",
        "    generate_button,\n",
        "    generator_output\n",
        "])\n",
        "\n",
        "# Layout for the checker\n",
        "checker_ui = widgets.VBox([\n",
        "    widgets.HTML(\"<hr><h3>Password Strength Checker (فاحص قوة كلمة المرور)</h3>\"),\n",
        "    checker.password_input,\n",
        "    checker.output\n",
        "])\n",
        "\n",
        "# Display everything\n",
        "display(generator_inputs, checker_ui)"
      ],
      "metadata": {
        "id": "PJ7CJjvMMLdv"
      },
      "id": "PJ7CJjvMMLdv",
      "execution_count": null,
      "outputs": []
    },
    {
      "cell_type": "code",
      "source": [],
      "metadata": {
        "id": "tYaPpxcKebxk"
      },
      "id": "tYaPpxcKebxk",
      "execution_count": null,
      "outputs": []
    }
  ],
  "metadata": {
    "kaggle": {
      "accelerator": "none",
      "dataSources": [
        {
          "datasetId": 4313637,
          "sourceId": 7415219,
          "sourceType": "datasetVersion"
        }
      ],
      "dockerImageVersionId": 30839,
      "isGpuEnabled": false,
      "isInternetEnabled": false,
      "language": "python",
      "sourceType": "notebook"
    },
    "kernelspec": {
      "display_name": "Python 3",
      "language": "python",
      "name": "python3"
    },
    "language_info": {
      "codemirror_mode": {
        "name": "ipython",
        "version": 3
      },
      "file_extension": ".py",
      "mimetype": "text/x-python",
      "name": "python",
      "nbconvert_exporter": "python",
      "pygments_lexer": "ipython3",
      "version": "3.10.12"
    },
    "papermill": {
      "default_parameters": {},
      "duration": 13.552376,
      "end_time": "2025-01-25T02:16:33.135597",
      "environment_variables": {},
      "exception": null,
      "input_path": "__notebook__.ipynb",
      "output_path": "__notebook__.ipynb",
      "parameters": {},
      "start_time": "2025-01-25T02:16:19.583221",
      "version": "2.6.0"
    },
    "colab": {
      "provenance": []
    }
  },
  "nbformat": 4,
  "nbformat_minor": 5
}